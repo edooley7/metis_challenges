{
 "cells": [
  {
   "cell_type": "code",
   "execution_count": 167,
   "metadata": {
    "collapsed": false
   },
   "outputs": [],
   "source": [
    "import pandas as pd\n",
    "import matplotlib.pyplot as plt\n",
    "from patsy import dmatrices\n",
    "from sklearn.linear_model import LogisticRegression\n",
    "from sklearn.cross_validation import train_test_split\n",
    "from sklearn.metrics import accuracy_score\n",
    "from sklearn.metrics import classification_report\n",
    "from sklearn.cross_validation import cross_val_score\n",
    "from sklearn.neighbors import KNeighborsClassifier\n",
    "import seaborn as sns\n",
    "from sklearn.naive_bayes import GaussianNB\n",
    "from sklearn.svm import SVC\n",
    "from sklearn.tree import DecisionTreeClassifier\n",
    "from sklearn.ensemble import RandomForestClassifier\n",
    "from sklearn.metrics import roc_curve, auc\n",
    "%matplotlib inline"
   ]
  },
  {
   "cell_type": "markdown",
   "metadata": {},
   "source": [
    "#### Challenge 1\n",
    "\n",
    "For the house representatives data set, calculate the accuracy, precision, recall and f1 scores of each classifier you built (on the test set)."
   ]
  },
  {
   "cell_type": "code",
   "execution_count": 168,
   "metadata": {
    "collapsed": true
   },
   "outputs": [],
   "source": [
    "df1 = pd.read_csv(\"votes.txt\")\n",
    "df1 = df1.replace('y',1)\n",
    "df1 = df1.replace('n',0)\n",
    "df1 = df1.replace('?',np.nan)\n",
    "df1 = df1.replace(np.nan, df1.mean())\n",
    "df1['party'] = df1.party.replace('republican', 1)\n",
    "df1['party'] = df1.party.replace('democrat', 0)\n",
    "\n",
    "y, X = dmatrices('party ~ v1+v2+v3+v4+v5+v6+v7+v8+v9+v10+v11+v12+v13+v14+v15+v16', data=df1, return_type='matrix')\n",
    "\n",
    "x_train, x_test, y_train, y_test = train_test_split(\n",
    "    X, y, test_size=0.25, random_state=7)\n",
    "y_train = y_train.ravel()\n",
    "y_test = y_test.ravel()"
   ]
  },
  {
   "cell_type": "code",
   "execution_count": 169,
   "metadata": {
    "collapsed": false
   },
   "outputs": [
    {
     "name": "stdout",
     "output_type": "stream",
     "text": [
      "KNN accuracy score: 0.94495412844\n",
      "KNN classification report:\n",
      "             precision    recall  f1-score   support\n",
      "\n",
      "        0.0       0.97      0.94      0.96        71\n",
      "        1.0       0.90      0.95      0.92        38\n",
      "\n",
      "avg / total       0.95      0.94      0.95       109\n",
      "\n",
      "\n",
      "Logistic Regression accuracy score: 0.954128440367\n",
      "Logistic Regression classification report:\n",
      "             precision    recall  f1-score   support\n",
      "\n",
      "        0.0       0.97      0.96      0.96        71\n",
      "        1.0       0.92      0.95      0.94        38\n",
      "\n",
      "avg / total       0.95      0.95      0.95       109\n",
      "\n",
      "\n",
      "Gaussian Naive Bayes accuracy score: 0.94495412844\n",
      "Gaussian Naive Bayes classification report:\n",
      "             precision    recall  f1-score   support\n",
      "\n",
      "        0.0       0.97      0.94      0.96        71\n",
      "        1.0       0.90      0.95      0.92        38\n",
      "\n",
      "avg / total       0.95      0.94      0.95       109\n",
      "\n",
      "\n",
      "SVM Classifier accuracy score: 0.954128440367\n",
      "SVM Classifier classification report:\n",
      "             precision    recall  f1-score   support\n",
      "\n",
      "        0.0       0.97      0.96      0.96        71\n",
      "        1.0       0.92      0.95      0.94        38\n",
      "\n",
      "avg / total       0.95      0.95      0.95       109\n",
      "\n",
      "\n",
      "Decision Tree accuracy score: 0.935779816514\n",
      "Decision Tree classification report:\n",
      "             precision    recall  f1-score   support\n",
      "\n",
      "        0.0       0.96      0.94      0.95        71\n",
      "        1.0       0.90      0.92      0.91        38\n",
      "\n",
      "avg / total       0.94      0.94      0.94       109\n",
      "\n",
      "\n",
      "Random Forest accuracy score: 0.963302752294\n",
      "Random Forest classification report:\n",
      "             precision    recall  f1-score   support\n",
      "\n",
      "        0.0       0.97      0.97      0.97        71\n",
      "        1.0       0.95      0.95      0.95        38\n",
      "\n",
      "avg / total       0.96      0.96      0.96       109\n",
      "\n",
      "\n"
     ]
    }
   ],
   "source": [
    "def model(name, main_model):\n",
    "    model = main_model()\n",
    "    model.fit(x_train, y_train)\n",
    "    y_pred = model.predict(x_test)\n",
    "    print name, \"accuracy score:\", accuracy_score(y_test, model.predict(x_test))\n",
    "    print name, \"classification report:\"\n",
    "    print classification_report(y_test, y_pred), \"\\n\"\n",
    "\n",
    "model(\"KNN\", KNeighborsClassifier)\n",
    "model(\"Logistic Regression\", LogisticRegression)\n",
    "model(\"Gaussian Naive Bayes\", GaussianNB)\n",
    "model(\"SVM Classifier\", SVC)\n",
    "model(\"Decision Tree\", DecisionTreeClassifier)\n",
    "model(\"Random Forest\", RandomForestClassifier)"
   ]
  },
  {
   "cell_type": "markdown",
   "metadata": {},
   "source": [
    "#### Challenge 2\n",
    "\n",
    "For each, draw the ROC curve and calculate the AUC."
   ]
  },
  {
   "cell_type": "code",
   "execution_count": 170,
   "metadata": {
    "collapsed": false
   },
   "outputs": [
    {
     "data": {
      "image/png": "[encoded data removed]",
      "text/plain": [
       "<matplotlib.figure.Figure at 0x10ae0b750>"
      ]
     },
     "metadata": {},
     "output_type": "display_data"
    }
   ],
   "source": [
    "y = y.ravel()\n",
    "\n",
    "def curves(name, classifier):\n",
    "    probas_ = classifier.fit(x_train, y_train).predict_proba(x_test)\n",
    "    fpr, tpr, thresholds = roc_curve(y_test, probas_[:, 1])\n",
    "    roc_auc = auc(fpr, tpr)\n",
    "    plt.plot(fpr, tpr, label = \"%s area under curve = %0.2f\" \n",
    "             % (name, roc_auc_score(y_test, probas_[:, 1])))\n",
    "    plt.legend(loc = \"best\")\n",
    "    plt.title(\"ROC curves\")\n",
    "    \n",
    "curves(\"KNN\", KNeighborsClassifier())\n",
    "curves(\"Logistic Regression\", LogisticRegression())\n",
    "curves(\"Gaussian Naive Bayes\", GaussianNB())\n",
    "curves(\"SVM Classifier\", SVC(probability = True))\n",
    "curves(\"Decision Tree\", DecisionTreeClassifier())\n",
    "curves(\"Random Forest\", RandomForestClassifier())"
   ]
  },
  {
   "cell_type": "markdown",
   "metadata": {},
   "source": [
    "#### Challenge 3\n",
    "\n",
    "Calculate the same metrics you did in challenge 1, but this time in a cross validation scheme with the `cross_val_score` function (like in Challenge 9)."
   ]
  },
  {
   "cell_type": "code",
   "execution_count": 171,
   "metadata": {
    "collapsed": false
   },
   "outputs": [
    {
     "name": "stdout",
     "output_type": "stream",
     "text": [
      "KNN scores:\n",
      "\tAccuracy =  0.933333333333\n",
      "\tPrecision =  0.892538476524\n",
      "\tRecall =  0.940476190476\n",
      "\tF1 =  0.915836818433\n",
      "\n",
      "\n",
      "Logistic Regression scores:\n",
      "\tAccuracy =  0.958620689655\n",
      "\tPrecision =  0.943342348807\n",
      "\tRecall =  0.952380952381\n",
      "\tF1 =  0.947168147168\n",
      "\n",
      "\n",
      "Gaussian Naive Bayes scores:\n",
      "\tAccuracy =  0.931034482759\n",
      "\tPrecision =  0.908613247223\n",
      "\tRecall =  0.916666666667\n",
      "\tF1 =  0.911184814591\n",
      "\n",
      "\n",
      "SVM Classifier scores:\n",
      "\tAccuracy =  0.954022988506\n",
      "\tPrecision =  0.922270955166\n",
      "\tRecall =  0.964285714286\n",
      "\tF1 =  0.942183510572\n",
      "\n",
      "\n",
      "Decision Tree scores:\n",
      "\tAccuracy =  0.944827586207\n",
      "\tPrecision =  0.920445837687\n",
      "\tRecall =  0.952380952381\n",
      "\tF1 =  0.93859746446\n",
      "\n",
      "\n",
      "Random Forest scores:\n",
      "\tAccuracy =  0.96091954023\n",
      "\tPrecision =  0.940870695257\n",
      "\tRecall =  0.964285714286\n",
      "\tF1 =  0.937761607801\n",
      "\n",
      "\n"
     ]
    }
   ],
   "source": [
    "def cv_scores(name, main_model):\n",
    "    accuracy = cross_val_score(main_model, X, y.ravel(), scoring = 'accuracy')\n",
    "    precision = cross_val_score(main_model, X, y.ravel(), scoring = 'precision')\n",
    "    recall = cross_val_score(main_model, X, y.ravel(), scoring = 'recall') \n",
    "    f1 = cross_val_score(main_model, X, y.ravel(), scoring = 'f1')\n",
    "    print name, \"scores:\"\n",
    "    print \"\\tAccuracy = \", accuracy.mean()\n",
    "    print \"\\tPrecision = \", precision.mean()\n",
    "    print \"\\tRecall = \", recall.mean()\n",
    "    print \"\\tF1 = \", f1.mean()\n",
    "    print \"\\n\"\n",
    "\n",
    "cv_scores(\"KNN\", KNeighborsClassifier())\n",
    "cv_scores(\"Logistic Regression\", LogisticRegression())\n",
    "cv_scores(\"Gaussian Naive Bayes\", GaussianNB())\n",
    "cv_scores(\"SVM Classifier\", SVC())\n",
    "cv_scores(\"Decision Tree\", DecisionTreeClassifier())\n",
    "cv_scores(\"Random Forest\", RandomForestClassifier())"
   ]
  },
  {
   "cell_type": "markdown",
   "metadata": {},
   "source": [
    "#### Challenge 4\n",
    "\n",
    "For your movie classifiers, calculate the precision and recall for each class."
   ]
  },
  {
   "cell_type": "code",
   "execution_count": 172,
   "metadata": {
    "collapsed": false
   },
   "outputs": [
    {
     "data": {
      "text/html": [
       "<div>\n",
       "<table border=\"1\" class=\"dataframe\">\n",
       "  <thead>\n",
       "    <tr style=\"text-align: right;\">\n",
       "      <th></th>\n",
       "      <th>Title</th>\n",
       "      <th>Budget</th>\n",
       "      <th>DomesticTotalGross</th>\n",
       "      <th>Director</th>\n",
       "      <th>Rating</th>\n",
       "      <th>Runtime</th>\n",
       "      <th>ReleaseDate</th>\n",
       "      <th>Runtime_bins</th>\n",
       "    </tr>\n",
       "  </thead>\n",
       "  <tbody>\n",
       "    <tr>\n",
       "      <th>0</th>\n",
       "      <td>The Hunger Games: Catching Fire</td>\n",
       "      <td>130000000</td>\n",
       "      <td>424668047</td>\n",
       "      <td>Francis Lawrence</td>\n",
       "      <td>PG-13</td>\n",
       "      <td>146</td>\n",
       "      <td>2013-11-22 00:00:00</td>\n",
       "      <td>1</td>\n",
       "    </tr>\n",
       "    <tr>\n",
       "      <th>1</th>\n",
       "      <td>Iron Man 3</td>\n",
       "      <td>200000000</td>\n",
       "      <td>409013994</td>\n",
       "      <td>Shane Black</td>\n",
       "      <td>PG-13</td>\n",
       "      <td>129</td>\n",
       "      <td>2013-05-03 00:00:00</td>\n",
       "      <td>1</td>\n",
       "    </tr>\n",
       "    <tr>\n",
       "      <th>2</th>\n",
       "      <td>Frozen</td>\n",
       "      <td>150000000</td>\n",
       "      <td>400738009</td>\n",
       "      <td>Chris BuckJennifer Lee</td>\n",
       "      <td>PG</td>\n",
       "      <td>108</td>\n",
       "      <td>2013-11-22 00:00:00</td>\n",
       "      <td>1</td>\n",
       "    </tr>\n",
       "    <tr>\n",
       "      <th>3</th>\n",
       "      <td>Despicable Me 2</td>\n",
       "      <td>76000000</td>\n",
       "      <td>368061265</td>\n",
       "      <td>Pierre CoffinChris Renaud</td>\n",
       "      <td>PG</td>\n",
       "      <td>98</td>\n",
       "      <td>2013-07-03 00:00:00</td>\n",
       "      <td>0</td>\n",
       "    </tr>\n",
       "    <tr>\n",
       "      <th>4</th>\n",
       "      <td>Man of Steel</td>\n",
       "      <td>225000000</td>\n",
       "      <td>291045518</td>\n",
       "      <td>Zack Snyder</td>\n",
       "      <td>PG-13</td>\n",
       "      <td>143</td>\n",
       "      <td>2013-06-14 00:00:00</td>\n",
       "      <td>1</td>\n",
       "    </tr>\n",
       "  </tbody>\n",
       "</table>\n",
       "</div>"
      ],
      "text/plain": [
       "                             Title     Budget  DomesticTotalGross  \\\n",
       "0  The Hunger Games: Catching Fire  130000000           424668047   \n",
       "1                       Iron Man 3  200000000           409013994   \n",
       "2                           Frozen  150000000           400738009   \n",
       "3                  Despicable Me 2   76000000           368061265   \n",
       "4                     Man of Steel  225000000           291045518   \n",
       "\n",
       "                    Director Rating  Runtime          ReleaseDate  \\\n",
       "0           Francis Lawrence  PG-13      146  2013-11-22 00:00:00   \n",
       "1                Shane Black  PG-13      129  2013-05-03 00:00:00   \n",
       "2     Chris BuckJennifer Lee     PG      108  2013-11-22 00:00:00   \n",
       "3  Pierre CoffinChris Renaud     PG       98  2013-07-03 00:00:00   \n",
       "4                Zack Snyder  PG-13      143  2013-06-14 00:00:00   \n",
       "\n",
       "   Runtime_bins  \n",
       "0             1  \n",
       "1             1  \n",
       "2             1  \n",
       "3             0  \n",
       "4             1  "
      ]
     },
     "execution_count": 172,
     "metadata": {},
     "output_type": "execute_result"
    }
   ],
   "source": [
    "df3 = pd.read_csv(\"2013_movies.csv\")\n",
    "df3['Runtime_bins'] = (df3.Runtime > 100).astype(int)\n",
    "df3.head()"
   ]
  },
  {
   "cell_type": "code",
   "execution_count": 173,
   "metadata": {
    "collapsed": false
   },
   "outputs": [
    {
     "name": "stdout",
     "output_type": "stream",
     "text": [
      "KNN scores:\n",
      "\tPrecision =  0.726150392817\n",
      "\tRecall =  0.913043478261\n",
      "\n",
      "\n",
      "Logistic Regression scores:\n",
      "\tPrecision =  0.692381329636\n",
      "\tRecall =  0.942028985507\n",
      "\n",
      "\n",
      "Gaussian Naive Bayes scores:\n",
      "\tPrecision =  0.741138988451\n",
      "\tRecall =  0.913043478261\n",
      "\n",
      "\n",
      "SVM Classifier scores:\n",
      "\tPrecision =  0.692381329636\n",
      "\tRecall =  0.942028985507\n",
      "\n",
      "\n",
      "Decision Tree scores:\n",
      "\tPrecision =  0.741138988451\n",
      "\tRecall =  0.913043478261\n",
      "\n",
      "\n",
      "Random Forest scores:\n",
      "\tPrecision =  0.741138988451\n",
      "\tRecall =  0.942028985507\n",
      "\n",
      "\n"
     ]
    }
   ],
   "source": [
    "y3, X3 = dmatrices('Runtime_bins ~ Rating', data=df3, return_type='matrix')\n",
    "\n",
    "def movie_scores(name, main_model):\n",
    "    precision = cross_val_score(main_model, X3, y3.ravel(), scoring = 'precision')\n",
    "    recall = cross_val_score(main_model, X3, y3.ravel(), scoring = 'recall') \n",
    "    print name, \"scores:\"\n",
    "    print \"\\tPrecision = \", precision.mean()\n",
    "    print \"\\tRecall = \", recall.mean()\n",
    "    print \"\\n\"\n",
    "\n",
    "movie_scores(\"KNN\", KNeighborsClassifier())\n",
    "movie_scores(\"Logistic Regression\", LogisticRegression())\n",
    "movie_scores(\"Gaussian Naive Bayes\", GaussianNB())\n",
    "movie_scores(\"SVM Classifier\", SVC())\n",
    "movie_scores(\"Decision Tree\", DecisionTreeClassifier())\n",
    "movie_scores(\"Random Forest\", RandomForestClassifier())"
   ]
  },
  {
   "cell_type": "markdown",
   "metadata": {},
   "source": [
    "#### Challenge 5\n",
    "\n",
    "Draw the ROC curve (and calculate AUC) for the logistic regression classifier from challenge 12."
   ]
  },
  {
   "cell_type": "code",
   "execution_count": 174,
   "metadata": {
    "collapsed": false
   },
   "outputs": [
    {
     "data": {
      "text/html": [
       "<div>\n",
       "<table border=\"1\" class=\"dataframe\">\n",
       "  <thead>\n",
       "    <tr style=\"text-align: right;\">\n",
       "      <th></th>\n",
       "      <th>age</th>\n",
       "      <th>year_of_op</th>\n",
       "      <th>pos_nodes</th>\n",
       "      <th>survival_status</th>\n",
       "    </tr>\n",
       "  </thead>\n",
       "  <tbody>\n",
       "    <tr>\n",
       "      <th>0</th>\n",
       "      <td>30</td>\n",
       "      <td>64</td>\n",
       "      <td>1</td>\n",
       "      <td>1</td>\n",
       "    </tr>\n",
       "    <tr>\n",
       "      <th>1</th>\n",
       "      <td>30</td>\n",
       "      <td>62</td>\n",
       "      <td>3</td>\n",
       "      <td>1</td>\n",
       "    </tr>\n",
       "    <tr>\n",
       "      <th>2</th>\n",
       "      <td>30</td>\n",
       "      <td>65</td>\n",
       "      <td>0</td>\n",
       "      <td>1</td>\n",
       "    </tr>\n",
       "    <tr>\n",
       "      <th>3</th>\n",
       "      <td>31</td>\n",
       "      <td>59</td>\n",
       "      <td>2</td>\n",
       "      <td>1</td>\n",
       "    </tr>\n",
       "    <tr>\n",
       "      <th>4</th>\n",
       "      <td>31</td>\n",
       "      <td>65</td>\n",
       "      <td>4</td>\n",
       "      <td>1</td>\n",
       "    </tr>\n",
       "  </tbody>\n",
       "</table>\n",
       "</div>"
      ],
      "text/plain": [
       "   age  year_of_op  pos_nodes  survival_status\n",
       "0   30          64          1                1\n",
       "1   30          62          3                1\n",
       "2   30          65          0                1\n",
       "3   31          59          2                1\n",
       "4   31          65          4                1"
      ]
     },
     "execution_count": 174,
     "metadata": {},
     "output_type": "execute_result"
    }
   ],
   "source": [
    "df4 = pd.read_csv(\"cancer.txt\")\n",
    "df4.survival_status = df4.survival_status.replace(2,0)\n",
    "df4.head()"
   ]
  },
  {
   "cell_type": "code",
   "execution_count": 175,
   "metadata": {
    "collapsed": false
   },
   "outputs": [],
   "source": [
    "y4, X4 = dmatrices('survival_status ~ age + year_of_op + pos_nodes', data=df4, return_type='matrix')\n",
    "y4 = y4.ravel()\n",
    "\n",
    "x_train4, x_test4, y_train4, y_test4 = train_test_split(\n",
    "    X4, y4, test_size=0.25, random_state=7)"
   ]
  },
  {
   "cell_type": "code",
   "execution_count": 176,
   "metadata": {
    "collapsed": false
   },
   "outputs": [
    {
     "data": {
      "image/png": "[encoded data removed]",
      "text/plain": [
       "<matplotlib.figure.Figure at 0x10b2a3e90>"
      ]
     },
     "metadata": {},
     "output_type": "display_data"
    }
   ],
   "source": [
    "probas_ = LogisticRegression().fit(x_train4, y_train4).predict_proba(x_test4)\n",
    "fpr, tpr, thresholds = roc_curve(y_test4, probas_[:, 1])\n",
    "roc_auc = auc(fpr, tpr)\n",
    "plt.plot(fpr, tpr, label = \"%s area under curve = %0.2f\" \n",
    "         % ('Logistic Regression', roc_auc_score(y_test4, probas_[:, 1])))\n",
    "plt.legend(loc = \"best\")\n",
    "plt.title(\"ROC curves\")\n",
    "plt.show()"
   ]
  }
 ],
 "metadata": {
  "kernelspec": {
   "display_name": "Python 2",
   "language": "python",
   "name": "python2"
  },
  "language_info": {
   "codemirror_mode": {
    "name": "ipython",
    "version": 2
   },
   "file_extension": ".py",
   "mimetype": "text/x-python",
   "name": "python",
   "nbconvert_exporter": "python",
   "pygments_lexer": "ipython2",
   "version": "2.7.10"
  }
 },
 "nbformat": 4,
 "nbformat_minor": 0
}
