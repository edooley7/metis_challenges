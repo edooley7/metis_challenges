{
 "cells": [
  {
   "cell_type": "code",
   "execution_count": 52,
   "metadata": {
    "collapsed": true
   },
   "outputs": [],
   "source": [
    "import pandas as pd\n",
    "import numpy as np\n",
    "import matplotlib.pyplot as plt\n",
    "from patsy import dmatrices\n",
    "from sklearn.linear_model import LogisticRegression\n",
    "from sklearn.cross_validation import train_test_split\n",
    "from sklearn.metrics import accuracy_score\n",
    "from sklearn.cross_validation import cross_val_score\n",
    "from sklearn.neighbors import KNeighborsClassifier\n",
    "import seaborn as sns\n",
    "from sklearn.learning_curve import learning_curve\n",
    "import matplotlib.patches as mpatches\n",
    "from sklearn.naive_bayes import GaussianNB\n",
    "from sklearn.svm import SVC\n",
    "from sklearn.tree import DecisionTreeClassifier\n",
    "from sklearn.ensemble import RandomForestClassifier\n",
    "import math\n",
    "\n",
    "%matplotlib inline"
   ]
  },
  {
   "cell_type": "markdown",
   "metadata": {},
   "source": [
    "**Challenge 1**\n",
    "\n",
    "Load the data into a pandas dataframe. Replace 'y's with 1s, 'n's with 0s.\n",
    "\n",
    "Now, almost every representative has a ?. This represents the absence of a vote (they were absent or some other similar reason). If we dropped all the rows that had a ?, we would throw out most of our data. Instead, we will replace ? with the best guess in the Bayesian sense: in the absence of any other information, we will say that the probability of the representative saying YES is the ratio of others that said YES over the whole votes.\n",
    "\n",
    "So, convert each ? to this probability (when yes=1 and no=0, this is the mean of the column)"
   ]
  },
  {
   "cell_type": "code",
   "execution_count": 53,
   "metadata": {
    "collapsed": false
   },
   "outputs": [
    {
     "data": {
      "text/html": [
       "<div>\n",
       "<table border=\"1\" class=\"dataframe\">\n",
       "  <thead>\n",
       "    <tr style=\"text-align: right;\">\n",
       "      <th></th>\n",
       "      <th>party</th>\n",
       "      <th>v1</th>\n",
       "      <th>v2</th>\n",
       "      <th>v3</th>\n",
       "      <th>v4</th>\n",
       "      <th>v5</th>\n",
       "      <th>v6</th>\n",
       "      <th>v7</th>\n",
       "      <th>v8</th>\n",
       "      <th>v9</th>\n",
       "      <th>v10</th>\n",
       "      <th>v11</th>\n",
       "      <th>v12</th>\n",
       "      <th>v13</th>\n",
       "      <th>v14</th>\n",
       "      <th>v15</th>\n",
       "      <th>v16</th>\n",
       "    </tr>\n",
       "  </thead>\n",
       "  <tbody>\n",
       "    <tr>\n",
       "      <th>0</th>\n",
       "      <td>1</td>\n",
       "      <td>0.00000</td>\n",
       "      <td>1</td>\n",
       "      <td>0</td>\n",
       "      <td>1.000000</td>\n",
       "      <td>1.000000</td>\n",
       "      <td>1</td>\n",
       "      <td>0</td>\n",
       "      <td>0</td>\n",
       "      <td>0</td>\n",
       "      <td>1</td>\n",
       "      <td>0.362319</td>\n",
       "      <td>1.000000</td>\n",
       "      <td>1</td>\n",
       "      <td>1</td>\n",
       "      <td>0</td>\n",
       "      <td>1.000000</td>\n",
       "    </tr>\n",
       "    <tr>\n",
       "      <th>1</th>\n",
       "      <td>1</td>\n",
       "      <td>0.00000</td>\n",
       "      <td>1</td>\n",
       "      <td>0</td>\n",
       "      <td>1.000000</td>\n",
       "      <td>1.000000</td>\n",
       "      <td>1</td>\n",
       "      <td>0</td>\n",
       "      <td>0</td>\n",
       "      <td>0</td>\n",
       "      <td>0</td>\n",
       "      <td>0.000000</td>\n",
       "      <td>1.000000</td>\n",
       "      <td>1</td>\n",
       "      <td>1</td>\n",
       "      <td>0</td>\n",
       "      <td>0.812689</td>\n",
       "    </tr>\n",
       "    <tr>\n",
       "      <th>2</th>\n",
       "      <td>0</td>\n",
       "      <td>0.44208</td>\n",
       "      <td>1</td>\n",
       "      <td>1</td>\n",
       "      <td>0.417453</td>\n",
       "      <td>1.000000</td>\n",
       "      <td>1</td>\n",
       "      <td>0</td>\n",
       "      <td>0</td>\n",
       "      <td>0</td>\n",
       "      <td>0</td>\n",
       "      <td>1.000000</td>\n",
       "      <td>0.000000</td>\n",
       "      <td>1</td>\n",
       "      <td>1</td>\n",
       "      <td>0</td>\n",
       "      <td>0.000000</td>\n",
       "    </tr>\n",
       "    <tr>\n",
       "      <th>3</th>\n",
       "      <td>0</td>\n",
       "      <td>0.00000</td>\n",
       "      <td>1</td>\n",
       "      <td>1</td>\n",
       "      <td>0.000000</td>\n",
       "      <td>0.504762</td>\n",
       "      <td>1</td>\n",
       "      <td>0</td>\n",
       "      <td>0</td>\n",
       "      <td>0</td>\n",
       "      <td>0</td>\n",
       "      <td>1.000000</td>\n",
       "      <td>0.000000</td>\n",
       "      <td>1</td>\n",
       "      <td>0</td>\n",
       "      <td>0</td>\n",
       "      <td>1.000000</td>\n",
       "    </tr>\n",
       "    <tr>\n",
       "      <th>4</th>\n",
       "      <td>0</td>\n",
       "      <td>1.00000</td>\n",
       "      <td>1</td>\n",
       "      <td>1</td>\n",
       "      <td>0.000000</td>\n",
       "      <td>1.000000</td>\n",
       "      <td>1</td>\n",
       "      <td>0</td>\n",
       "      <td>0</td>\n",
       "      <td>0</td>\n",
       "      <td>0</td>\n",
       "      <td>1.000000</td>\n",
       "      <td>0.423267</td>\n",
       "      <td>1</td>\n",
       "      <td>1</td>\n",
       "      <td>1</td>\n",
       "      <td>1.000000</td>\n",
       "    </tr>\n",
       "  </tbody>\n",
       "</table>\n",
       "</div>"
      ],
      "text/plain": [
       "   party       v1  v2  v3        v4        v5  v6  v7  v8  v9  v10       v11  \\\n",
       "0      1  0.00000   1   0  1.000000  1.000000   1   0   0   0    1  0.362319   \n",
       "1      1  0.00000   1   0  1.000000  1.000000   1   0   0   0    0  0.000000   \n",
       "2      0  0.44208   1   1  0.417453  1.000000   1   0   0   0    0  1.000000   \n",
       "3      0  0.00000   1   1  0.000000  0.504762   1   0   0   0    0  1.000000   \n",
       "4      0  1.00000   1   1  0.000000  1.000000   1   0   0   0    0  1.000000   \n",
       "\n",
       "        v12  v13  v14  v15       v16  \n",
       "0  1.000000    1    1    0  1.000000  \n",
       "1  1.000000    1    1    0  0.812689  \n",
       "2  0.000000    1    1    0  0.000000  \n",
       "3  0.000000    1    0    0  1.000000  \n",
       "4  0.423267    1    1    1  1.000000  "
      ]
     },
     "execution_count": 53,
     "metadata": {},
     "output_type": "execute_result"
    }
   ],
   "source": [
    "df1 = pd.read_csv(\"votes.txt\")\n",
    "df1 = df1.replace('y',1)\n",
    "df1 = df1.replace('n',0)\n",
    "df1 = df1.replace('?',np.nan)\n",
    "df1 = df1.replace(np.nan, df1.mean())\n",
    "df1['party'] = df1.party.replace('republican', 1)\n",
    "df1['party'] = df1.party.replace('democrat', 0)\n",
    "df1.head()"
   ]
  },
  {
   "cell_type": "markdown",
   "metadata": {},
   "source": [
    "**Challenge 2**\n",
    "\n",
    "Split the data into a test and training set. Use this function:\n",
    "\n",
    "```\n",
    "from sklearn.cross_validation import train_test_split\n",
    "```"
   ]
  },
  {
   "cell_type": "code",
   "execution_count": 54,
   "metadata": {
    "collapsed": false
   },
   "outputs": [],
   "source": [
    "y, X = dmatrices('party ~ v1+v2+v3+v4+v5+v6+v7+v8+v9+v10+v11+v12+v13+v14+v15+v16', data=df1, return_type='matrix')\n",
    "\n",
    "x_train, x_test, y_train, y_test = train_test_split(\n",
    "    X, y, test_size=0.25, random_state=7)"
   ]
  },
  {
   "cell_type": "markdown",
   "metadata": {},
   "source": [
    "**Challenge 3**\n",
    "\n",
    "Using scikit.learn's KNN algorithm, train a model that predicts the party (republican/democrat):\n",
    "\n",
    "```\n",
    "from sklearn.neighbors import KNeighborsClassifier\n",
    "```\n",
    "\n",
    "Try it with a lot of different k values (number of neighbors), from 1 to 20, and on the test set calculate the accuracy (number of correct predictions / number of all predictions) for each k\n",
    "\n",
    "You can use this to calculate accuracy:\n",
    "\n",
    "```\n",
    "from sklearn.metrics import accuracy_score\n",
    "```\n",
    "\n",
    "Which k value gives the highest accuracy?"
   ]
  },
  {
   "cell_type": "code",
   "execution_count": 55,
   "metadata": {
    "collapsed": false
   },
   "outputs": [
    {
     "name": "stdout",
     "output_type": "stream",
     "text": [
      "1 0.94495412844\n",
      "2 0.954128440367\n",
      "3 0.94495412844\n",
      "4 0.94495412844\n",
      "5 0.94495412844\n",
      "6 0.954128440367\n",
      "7 0.926605504587\n",
      "8 0.94495412844\n",
      "9 0.94495412844\n",
      "10 0.94495412844\n",
      "11 0.926605504587\n",
      "12 0.926605504587\n",
      "13 0.935779816514\n",
      "14 0.94495412844\n",
      "15 0.935779816514\n",
      "16 0.935779816514\n",
      "17 0.935779816514\n",
      "18 0.935779816514\n",
      "19 0.935779816514\n",
      "20 0.935779816514\n"
     ]
    }
   ],
   "source": [
    "y_train = y_train.ravel()\n",
    "y_test = y_test.ravel()\n",
    "\n",
    "def knn(k):\n",
    "    knn = KNeighborsClassifier(k)\n",
    "    knn.fit(x_train, y_train)\n",
    "    return accuracy_score(y_test, knn.predict(x_test))\n",
    "for i in range(1,21):\n",
    "    print i, knn(i)"
   ]
  },
  {
   "cell_type": "markdown",
   "metadata": {},
   "source": [
    ">k values of 2 and 6 give the highest accuracy score"
   ]
  },
  {
   "cell_type": "markdown",
   "metadata": {},
   "source": [
    "**Challenge 4**\n",
    "\n",
    "Make a similar model but with `LogisticRegression` instead, calculate test accuracy."
   ]
  },
  {
   "cell_type": "code",
   "execution_count": 56,
   "metadata": {
    "collapsed": false
   },
   "outputs": [
    {
     "name": "stdout",
     "output_type": "stream",
     "text": [
      "Logistic Regression test accuracy: 0.954128440367\n"
     ]
    }
   ],
   "source": [
    "def log_reg():\n",
    "    log_reg = LogisticRegression()\n",
    "    log_reg.fit(x_train, y_train)\n",
    "    return accuracy_score(y_test, log_reg.predict(x_test))\n",
    "print \"Logistic Regression test accuracy:\", log_reg()"
   ]
  },
  {
   "cell_type": "markdown",
   "metadata": {},
   "source": [
    "**Challenge 5**\n",
    "\n",
    "Make a bar graph of democrats and republicans. How many of each are there?"
   ]
  },
  {
   "cell_type": "code",
   "execution_count": 57,
   "metadata": {
    "collapsed": false
   },
   "outputs": [
    {
     "data": {
      "image/png": "[encoded data removed]",
      "text/plain": [
       "<matplotlib.figure.Figure at 0x10aa203d0>"
      ]
     },
     "metadata": {},
     "output_type": "display_data"
    },
    {
     "name": "stdout",
     "output_type": "stream",
     "text": [
      "0    267\n",
      "1    168\n",
      "dtype: int64\n"
     ]
    }
   ],
   "source": [
    "sns.countplot(df1.party)\n",
    "democrat = mpatches.Patch(color='green', label='democrat') \n",
    "republican = mpatches.Patch(color='blue', label='republican')\n",
    "plt.legend(handles=[democrat, republican], loc = 'best')\n",
    "plt.show()\n",
    "\n",
    "print df1.party.value_counts()"
   ]
  },
  {
   "cell_type": "markdown",
   "metadata": {},
   "source": [
    "Make a very simple predictor that predicts 'democrat' for every incoming example.\n",
    "\n",
    "Just make a function that takes in an X --an array or matrix with input examples--, and returns an array of the same length as X, where each value is 'democrat'. For example, if X is three rows, your function should return ['democrat','democrat','democrat']. Make a y_predicted vector using this and measure its accuracy."
   ]
  },
  {
   "cell_type": "code",
   "execution_count": 58,
   "metadata": {
    "collapsed": false
   },
   "outputs": [
    {
     "name": "stdout",
     "output_type": "stream",
     "text": [
      "Accuracy always predicting democrat: 0.651376146789\n"
     ]
    }
   ],
   "source": [
    "def dem(x):\n",
    "    return [0] * len(x)\n",
    "y_pred_dem = dem(x_test)\n",
    "\n",
    "def dem_acc():\n",
    "    return accuracy_score(y_test, y_pred_dem)\n",
    "print \"Accuracy always predicting democrat:\", dem_acc()"
   ]
  },
  {
   "cell_type": "markdown",
   "metadata": {},
   "source": [
    "Do the same with predicting 'republican' all the time and measure its accuracy."
   ]
  },
  {
   "cell_type": "code",
   "execution_count": 59,
   "metadata": {
    "collapsed": false
   },
   "outputs": [
    {
     "name": "stdout",
     "output_type": "stream",
     "text": [
      "Accuracy always predicting Republican: 0.348623853211\n"
     ]
    }
   ],
   "source": [
    "def rep(x):\n",
    "    return [1] * len(x)\n",
    "y_pred_rep = rep(x_test)\n",
    "\n",
    "def rep_acc():\n",
    "    return accuracy_score(y_test, y_pred_rep)\n",
    "print \"Accuracy always predicting Republican:\", rep_acc()"
   ]
  },
  {
   "cell_type": "markdown",
   "metadata": {},
   "source": [
    "**Challenge 6**\n",
    "\n",
    "Plot the accuracies as a function of k. Since k only matters for KNN, your logistic regression accuracy, 'democrat' predictor accuracy and 'republican' predictor accuracy will stay the same over all k, so each of these three will be a horizontal line. But the KNN accuracy will change with k."
   ]
  },
  {
   "cell_type": "code",
   "execution_count": 60,
   "metadata": {
    "collapsed": false
   },
   "outputs": [
    {
     "data": {
      "image/png": "[encoded data removed]",
      "text/plain": [
       "<matplotlib.figure.Figure at 0x10abdfa50>"
      ]
     },
     "metadata": {},
     "output_type": "display_data"
    }
   ],
   "source": [
    "headers = ['KNN', 'LogReg', 'JustDem', 'JustRep']\n",
    "data = []\n",
    "def accuracies(k):\n",
    "    knn_acc = knn(k)\n",
    "    log = log_reg()\n",
    "    rep = rep_acc()\n",
    "    dem = dem_acc()\n",
    "    \n",
    "    info_dict = dict(zip(headers, [knn_acc, log, rep, dem]))\n",
    "    data.append(info_dict)\n",
    "    \n",
    "for i in range(1,21):\n",
    "    accuracies(i)\n",
    "accuracies_df = pd.DataFrame(data)\n",
    "\n",
    "plt.plot(accuracies_df.KNN, label='KNN accuracy')\n",
    "plt.plot(accuracies_df.LogReg, label='Log. Regression accuracy')\n",
    "plt.plot(accuracies_df.JustDem, label='Dem. Baseline accuracy')\n",
    "plt.plot(accuracies_df.JustRep, label='Rep. Baseline accuracy')\n",
    "plt.legend(loc = 'lower left')\n",
    "plt.show()"
   ]
  },
  {
   "cell_type": "markdown",
   "metadata": {},
   "source": [
    "**Challenge 7**\n",
    "\n",
    "Plot a learning curve for the logistic regression model. But instead of going through the painstaking steps of doing it yourself, use this function:\n",
    "\n",
    "```\n",
    "from sklearn.learning_curve import learning_curve\n",
    "```\n",
    "\n",
    "This will give you the m, training errors and testing errors. All you need to do is plot them. You don't even need to give it separate training/test sets. It will do crossvalidation all by itself. Easy, isn't it? : )\n",
    "Remember, since it does cross-validation, it doesn't have a single training error or test error per m value. Instead, it has one for each fold (separate partition) of the cross validation. A good idea is to take the mean of these errors from different folds. This gives you a meaningful single number per m. What I mean is that doing something like:\n",
    "\n",
    "```\n",
    "train_cv_err = np.mean(train_err, axis=1)\n",
    "test_cv_err = np.mean(ts_err, axis=1)\n",
    "```\n",
    "\n",
    "Before plotting `m` vs `train_cv_err` and `m` vs `test_cv_err`, where `train_err` and `test_err` are the vectors returned by the learning curve function. The `np.mean(...., axis=1)` means take the mean along axis 1 (axis 1 is the columns axis-- for each row, you have a bunch of columns, each corresponding to a cross validation fold, you are averaging these columns for each row).\n",
    "\n",
    "Draw the learning curve for KNN with the best k value as well."
   ]
  },
  {
   "cell_type": "code",
   "execution_count": 61,
   "metadata": {
    "collapsed": false
   },
   "outputs": [
    {
     "data": {
      "image/png": "[encoded data removed]",
      "text/plain": [
       "<matplotlib.figure.Figure at 0x10ad38450>"
      ]
     },
     "metadata": {},
     "output_type": "display_data"
    },
    {
     "data": {
      "image/png": "[encoded data removed]",
      "text/plain": [
       "<matplotlib.figure.Figure at 0x10b584450>"
      ]
     },
     "metadata": {},
     "output_type": "display_data"
    }
   ],
   "source": [
    "train_sizes, train_score, test_score = learning_curve(LogisticRegression(), X, y.ravel(), scoring = 'accuracy')\n",
    "train_cv_score = np.mean(train_score, axis=1)\n",
    "test_cv_score = np.mean(test_score, axis=1)\n",
    "\n",
    "fig, ax = plt.subplots()\n",
    "ax.plot(train_sizes, train_cv_score, label = \"Training score\")\n",
    "ax.plot(train_sizes,test_cv_score, label = \"Test score\")\n",
    "plt.legend(loc = 'best')\n",
    "plt.title('Logistic Regression Learning Curve')\n",
    "ax.set_xlabel(\"Train size\")\n",
    "ax.set_ylabel(\"Score\")\n",
    "plt.show()\n",
    "\n",
    "train_sizes, train_score, test_score = learning_curve(KNeighborsClassifier(6), X, y.ravel(), scoring = 'accuracy')\n",
    "train_cv_score = np.mean(train_score, axis=1)\n",
    "test_cv_score = np.mean(test_score, axis=1)\n",
    "\n",
    "fig, ax = plt.subplots()\n",
    "ax.plot(train_sizes, train_cv_score, label = \"Training score\")\n",
    "ax.plot(train_sizes,test_cv_score, label = \"Test score\")\n",
    "plt.legend(loc = 'best')\n",
    "plt.title('KNN Learning Curve')\n",
    "ax.set_xlabel(\"Train size\")\n",
    "ax.set_ylabel(\"Score\")\n",
    "plt.show()"
   ]
  },
  {
   "cell_type": "markdown",
   "metadata": {},
   "source": [
    "**Challenge 8**\n",
    "\n",
    "This is a preview of many other classification algorithms that we will go over. Scikit.learn has the same interface for all of these, so you can use them exactly the same way as you did LogisticRegression and KNeighborsClassifier. Use each of these to classify your data and print the test accuracy of each:\n",
    "\n",
    "Gaussian Naive Bayes\n",
    "\n",
    "```\n",
    "from sklearn.naive_bayes import GaussianNB\n",
    "```\n",
    "\n",
    "SVM (Support Vector Machine) Classifier\n",
    "\n",
    "```\n",
    "from sklearn.svm import SVC\n",
    "```\n",
    "\n",
    "Decision Tree\n",
    "\n",
    "```\n",
    "from sklearn.tree import DecisionTreeClassifier\n",
    "```\n",
    "\n",
    "Random Forest\n",
    "\n",
    "```\n",
    "from sklearn.ensemble import RandomForestClassifier\n",
    "```"
   ]
  },
  {
   "cell_type": "code",
   "execution_count": 62,
   "metadata": {
    "collapsed": false
   },
   "outputs": [
    {
     "name": "stdout",
     "output_type": "stream",
     "text": [
      "Gaussian Naive Bayes test accuracy: 0.94495412844\n",
      "SVM (Support Vector Machine) Classifier test accuracy: 0.954128440367\n",
      "Decision Tree test accuracy: 0.94495412844\n",
      "Random Forest test accuracy: 0.94495412844\n"
     ]
    }
   ],
   "source": [
    "gb = GaussianNB().fit(x_train, y_train)\n",
    "print \"Gaussian Naive Bayes test accuracy:\", accuracy_score(y_test, gb.predict(x_test))\n",
    "\n",
    "svm = SVC().fit(x_train, y_train)\n",
    "print \"SVM (Support Vector Machine) Classifier test accuracy:\", accuracy_score(y_test, svm.predict(x_test))\n",
    "\n",
    "dtc = DecisionTreeClassifier().fit(x_train, y_train)\n",
    "print \"Decision Tree test accuracy:\", accuracy_score(y_test, dtc.predict(x_test))\n",
    "\n",
    "rf = RandomForestClassifier().fit(x_train, y_train)\n",
    "print \"Random Forest test accuracy:\", accuracy_score(y_test, rf.predict(x_test))"
   ]
  },
  {
   "cell_type": "markdown",
   "metadata": {},
   "source": [
    "**Challenge 9**\n",
    "\n",
    "There is actually a way to do cross validation quickly to get your accuracy results for an algorithm, without separating training and test yourself:\n",
    "\n",
    "```\n",
    "from sklearn.cross_validation import cross_val_score\n",
    "```\n",
    "\n",
    "Just like the `learning_curve` function, this takes a classifier object, `X` and `Y`. Returns accuracy (or whatever score you prefer by using the _scoring_ keyword argument). Of course, it will return a score for each cross validation fold, so to get the generalized accuracy, you need to take the mean of what it returns.\n",
    "\n",
    "Use this function to calculate the cross validation score of each of the classifiers you tried before."
   ]
  },
  {
   "cell_type": "code",
   "execution_count": 63,
   "metadata": {
    "collapsed": false
   },
   "outputs": [
    {
     "name": "stdout",
     "output_type": "stream",
     "text": [
      "KNN cross validation score: 0.933333333333\n",
      "Logisitic Regression cross validation score: 0.958620689655\n",
      "Gaussian Naive Bayes cross validation score: 0.931034482759\n",
      "SVM (Support Vector Machine) Classifier cross validation score: 0.954022988506\n",
      "Decision Tree cross validation score: 0.947126436782\n",
      "Random Forest cross validation score: 0.96091954023\n"
     ]
    }
   ],
   "source": [
    "knn_cv_scores = cross_val_score(KNeighborsClassifier(6), X, y.ravel(), scoring = 'accuracy')\n",
    "print \"KNN cross validation score:\", knn_cv_scores.mean()\n",
    "\n",
    "log_reg_cv_scores = cross_val_score(LogisticRegression(), X, y.ravel(), scoring = 'accuracy')\n",
    "print \"Logisitic Regression cross validation score:\", log_reg_cv_scores.mean()\n",
    "\n",
    "gb_cv_scores = cross_val_score(GaussianNB(), X, y.ravel(), scoring = 'accuracy')\n",
    "print \"Gaussian Naive Bayes cross validation score:\", gb_cv_scores.mean()\n",
    "\n",
    "svm_cv_scores = cross_val_score(SVC(), X, y.ravel(), scoring = 'accuracy')\n",
    "print \"SVM (Support Vector Machine) Classifier cross validation score:\", svm_cv_scores.mean()\n",
    "\n",
    "dt_cv_scores = cross_val_score(DecisionTreeClassifier(), X, y.ravel(), scoring = 'accuracy')\n",
    "print \"Decision Tree cross validation score:\", dt_cv_scores.mean()\n",
    "\n",
    "rf_cv_scores = cross_val_score(RandomForestClassifier(), X, y.ravel(), scoring = 'accuracy')\n",
    "print \"Random Forest cross validation score:\", rf_cv_scores.mean()"
   ]
  },
  {
   "cell_type": "markdown",
   "metadata": {},
   "source": [
    "**Challenge 10**\n",
    "\n",
    "Instead of 'democrat' or 'republican', can you predict the vote of a representative based on their other votes?\n",
    "\n",
    "Reload the data from scratch. Convert y-->1, n-->0.\n",
    "\n",
    "Choose one vote. Build a classifier (logistic regression or KNN), that uses the other votes (do not use the party as a feature) to predict if the vote will be 1 or 0.\n",
    "\n",
    "Convert each ? to the mode of the column (if a senator has not voted, make their vote 1 if most others voted 1, make it 0 if most others voted 0).\n",
    "\n",
    "Calculate the cross validation accuracy of your classifier for predicting how each representative will vote on the issue."
   ]
  },
  {
   "cell_type": "code",
   "execution_count": 64,
   "metadata": {
    "collapsed": false
   },
   "outputs": [
    {
     "data": {
      "text/html": [
       "<div>\n",
       "<table border=\"1\" class=\"dataframe\">\n",
       "  <thead>\n",
       "    <tr style=\"text-align: right;\">\n",
       "      <th></th>\n",
       "      <th>party</th>\n",
       "      <th>v1</th>\n",
       "      <th>v2</th>\n",
       "      <th>v3</th>\n",
       "      <th>v4</th>\n",
       "      <th>v5</th>\n",
       "      <th>v6</th>\n",
       "      <th>v7</th>\n",
       "      <th>v8</th>\n",
       "      <th>v9</th>\n",
       "      <th>v10</th>\n",
       "      <th>v11</th>\n",
       "      <th>v12</th>\n",
       "      <th>v13</th>\n",
       "      <th>v14</th>\n",
       "      <th>v15</th>\n",
       "      <th>v16</th>\n",
       "    </tr>\n",
       "  </thead>\n",
       "  <tbody>\n",
       "    <tr>\n",
       "      <th>0</th>\n",
       "      <td>1</td>\n",
       "      <td>0</td>\n",
       "      <td>1</td>\n",
       "      <td>0</td>\n",
       "      <td>1</td>\n",
       "      <td>1</td>\n",
       "      <td>1</td>\n",
       "      <td>0</td>\n",
       "      <td>0</td>\n",
       "      <td>0</td>\n",
       "      <td>1</td>\n",
       "      <td>0</td>\n",
       "      <td>1</td>\n",
       "      <td>1</td>\n",
       "      <td>1</td>\n",
       "      <td>0</td>\n",
       "      <td>1</td>\n",
       "    </tr>\n",
       "    <tr>\n",
       "      <th>1</th>\n",
       "      <td>1</td>\n",
       "      <td>0</td>\n",
       "      <td>1</td>\n",
       "      <td>0</td>\n",
       "      <td>1</td>\n",
       "      <td>1</td>\n",
       "      <td>1</td>\n",
       "      <td>0</td>\n",
       "      <td>0</td>\n",
       "      <td>0</td>\n",
       "      <td>0</td>\n",
       "      <td>0</td>\n",
       "      <td>1</td>\n",
       "      <td>1</td>\n",
       "      <td>1</td>\n",
       "      <td>0</td>\n",
       "      <td>1</td>\n",
       "    </tr>\n",
       "    <tr>\n",
       "      <th>2</th>\n",
       "      <td>0</td>\n",
       "      <td>0</td>\n",
       "      <td>1</td>\n",
       "      <td>1</td>\n",
       "      <td>0</td>\n",
       "      <td>1</td>\n",
       "      <td>1</td>\n",
       "      <td>0</td>\n",
       "      <td>0</td>\n",
       "      <td>0</td>\n",
       "      <td>0</td>\n",
       "      <td>1</td>\n",
       "      <td>0</td>\n",
       "      <td>1</td>\n",
       "      <td>1</td>\n",
       "      <td>0</td>\n",
       "      <td>0</td>\n",
       "    </tr>\n",
       "    <tr>\n",
       "      <th>3</th>\n",
       "      <td>0</td>\n",
       "      <td>0</td>\n",
       "      <td>1</td>\n",
       "      <td>1</td>\n",
       "      <td>0</td>\n",
       "      <td>1</td>\n",
       "      <td>1</td>\n",
       "      <td>0</td>\n",
       "      <td>0</td>\n",
       "      <td>0</td>\n",
       "      <td>0</td>\n",
       "      <td>1</td>\n",
       "      <td>0</td>\n",
       "      <td>1</td>\n",
       "      <td>0</td>\n",
       "      <td>0</td>\n",
       "      <td>1</td>\n",
       "    </tr>\n",
       "    <tr>\n",
       "      <th>4</th>\n",
       "      <td>0</td>\n",
       "      <td>1</td>\n",
       "      <td>1</td>\n",
       "      <td>1</td>\n",
       "      <td>0</td>\n",
       "      <td>1</td>\n",
       "      <td>1</td>\n",
       "      <td>0</td>\n",
       "      <td>0</td>\n",
       "      <td>0</td>\n",
       "      <td>0</td>\n",
       "      <td>1</td>\n",
       "      <td>0</td>\n",
       "      <td>1</td>\n",
       "      <td>1</td>\n",
       "      <td>1</td>\n",
       "      <td>1</td>\n",
       "    </tr>\n",
       "  </tbody>\n",
       "</table>\n",
       "</div>"
      ],
      "text/plain": [
       "   party  v1  v2  v3  v4  v5  v6  v7  v8  v9  v10  v11  v12  v13  v14  v15  \\\n",
       "0      1   0   1   0   1   1   1   0   0   0    1    0    1    1    1    0   \n",
       "1      1   0   1   0   1   1   1   0   0   0    0    0    1    1    1    0   \n",
       "2      0   0   1   1   0   1   1   0   0   0    0    1    0    1    1    0   \n",
       "3      0   0   1   1   0   1   1   0   0   0    0    1    0    1    0    0   \n",
       "4      0   1   1   1   0   1   1   0   0   0    0    1    0    1    1    1   \n",
       "\n",
       "   v16  \n",
       "0    1  \n",
       "1    1  \n",
       "2    0  \n",
       "3    1  \n",
       "4    1  "
      ]
     },
     "execution_count": 64,
     "metadata": {},
     "output_type": "execute_result"
    }
   ],
   "source": [
    "df2 = pd.read_csv(\"votes.txt\")\n",
    "df2 = df2.replace('y',1)\n",
    "df2 = df2.replace('n',0)\n",
    "df2['party'] = df2.party.replace('republican', 1)\n",
    "df2['party'] = df2.party.replace('democrat', 0)\n",
    "df2 = df2.replace('?',np.nan)\n",
    "df2 = df2.replace(np.nan,dict(df2.mode()))\n",
    "df2.head()"
   ]
  },
  {
   "cell_type": "code",
   "execution_count": 65,
   "metadata": {
    "collapsed": false
   },
   "outputs": [
    {
     "name": "stdout",
     "output_type": "stream",
     "text": [
      "1 0.660550458716\n",
      "2 0.614678899083\n",
      "3 0.651376146789\n",
      "4 0.706422018349\n",
      "5 0.642201834862\n",
      "6 0.743119266055\n",
      "7 0.706422018349\n",
      "8 0.688073394495\n",
      "9 0.688073394495\n",
      "10 0.724770642202\n",
      "11 0.669724770642\n",
      "12 0.669724770642\n",
      "13 0.688073394495\n",
      "14 0.688073394495\n",
      "15 0.697247706422\n",
      "16 0.678899082569\n",
      "17 0.697247706422\n",
      "18 0.697247706422\n",
      "19 0.733944954128\n",
      "20 0.724770642202\n",
      "\n",
      "KNN cross validation score: 0.661884173971\n"
     ]
    }
   ],
   "source": [
    "y2, X2 = dmatrices('v1 ~ v2+v3+v4+v5+v6+v7+v8+v9+v10+v11+v12+v13+v14+v15+v16', data=df2, return_type='matrix')\n",
    "y2 = y2.ravel()\n",
    "\n",
    "x_train2, x_test2, y_train2, y_test2 = train_test_split(\n",
    "    X2, y2, test_size=0.25, random_state=7)\n",
    "\n",
    "def knn(k):\n",
    "    knn = KNeighborsClassifier(k)\n",
    "    knn.fit(x_train2, y_train2)\n",
    "    return accuracy_score(y_test2, knn.predict(x_test2))\n",
    "for i in range(1,21):\n",
    "    print i, knn(i)\n",
    "    \n",
    "knn_cv_scores = cross_val_score(KNeighborsClassifier(19), X2, y2.ravel(), scoring = 'accuracy')\n",
    "print \"\\nKNN cross validation score:\", knn_cv_scores.mean()"
   ]
  },
  {
   "cell_type": "markdown",
   "metadata": {},
   "source": [
    "**Challenge 11**\n",
    "\n",
    "Back to movie data! Choose one categoric feature to predict. I chose MPAA Rating, but genre, month, etc. are all decent choices. If you don't have any non-numeric features, you can make two bins out of a numeric one (like \"Runtime>100 mins\" and \"Runtime<=100 mins\")"
   ]
  },
  {
   "cell_type": "code",
   "execution_count": 66,
   "metadata": {
    "collapsed": false
   },
   "outputs": [
    {
     "data": {
      "text/html": [
       "<div>\n",
       "<table border=\"1\" class=\"dataframe\">\n",
       "  <thead>\n",
       "    <tr style=\"text-align: right;\">\n",
       "      <th></th>\n",
       "      <th>Title</th>\n",
       "      <th>Budget</th>\n",
       "      <th>DomesticTotalGross</th>\n",
       "      <th>Director</th>\n",
       "      <th>Rating</th>\n",
       "      <th>Runtime</th>\n",
       "      <th>ReleaseDate</th>\n",
       "      <th>Runtime_bins</th>\n",
       "    </tr>\n",
       "  </thead>\n",
       "  <tbody>\n",
       "    <tr>\n",
       "      <th>0</th>\n",
       "      <td>The Hunger Games: Catching Fire</td>\n",
       "      <td>130000000</td>\n",
       "      <td>424668047</td>\n",
       "      <td>Francis Lawrence</td>\n",
       "      <td>PG-13</td>\n",
       "      <td>146</td>\n",
       "      <td>2013-11-22 00:00:00</td>\n",
       "      <td>1</td>\n",
       "    </tr>\n",
       "    <tr>\n",
       "      <th>1</th>\n",
       "      <td>Iron Man 3</td>\n",
       "      <td>200000000</td>\n",
       "      <td>409013994</td>\n",
       "      <td>Shane Black</td>\n",
       "      <td>PG-13</td>\n",
       "      <td>129</td>\n",
       "      <td>2013-05-03 00:00:00</td>\n",
       "      <td>1</td>\n",
       "    </tr>\n",
       "    <tr>\n",
       "      <th>2</th>\n",
       "      <td>Frozen</td>\n",
       "      <td>150000000</td>\n",
       "      <td>400738009</td>\n",
       "      <td>Chris BuckJennifer Lee</td>\n",
       "      <td>PG</td>\n",
       "      <td>108</td>\n",
       "      <td>2013-11-22 00:00:00</td>\n",
       "      <td>1</td>\n",
       "    </tr>\n",
       "    <tr>\n",
       "      <th>3</th>\n",
       "      <td>Despicable Me 2</td>\n",
       "      <td>76000000</td>\n",
       "      <td>368061265</td>\n",
       "      <td>Pierre CoffinChris Renaud</td>\n",
       "      <td>PG</td>\n",
       "      <td>98</td>\n",
       "      <td>2013-07-03 00:00:00</td>\n",
       "      <td>0</td>\n",
       "    </tr>\n",
       "    <tr>\n",
       "      <th>4</th>\n",
       "      <td>Man of Steel</td>\n",
       "      <td>225000000</td>\n",
       "      <td>291045518</td>\n",
       "      <td>Zack Snyder</td>\n",
       "      <td>PG-13</td>\n",
       "      <td>143</td>\n",
       "      <td>2013-06-14 00:00:00</td>\n",
       "      <td>1</td>\n",
       "    </tr>\n",
       "  </tbody>\n",
       "</table>\n",
       "</div>"
      ],
      "text/plain": [
       "                             Title     Budget  DomesticTotalGross  \\\n",
       "0  The Hunger Games: Catching Fire  130000000           424668047   \n",
       "1                       Iron Man 3  200000000           409013994   \n",
       "2                           Frozen  150000000           400738009   \n",
       "3                  Despicable Me 2   76000000           368061265   \n",
       "4                     Man of Steel  225000000           291045518   \n",
       "\n",
       "                    Director Rating  Runtime          ReleaseDate  \\\n",
       "0           Francis Lawrence  PG-13      146  2013-11-22 00:00:00   \n",
       "1                Shane Black  PG-13      129  2013-05-03 00:00:00   \n",
       "2     Chris BuckJennifer Lee     PG      108  2013-11-22 00:00:00   \n",
       "3  Pierre CoffinChris Renaud     PG       98  2013-07-03 00:00:00   \n",
       "4                Zack Snyder  PG-13      143  2013-06-14 00:00:00   \n",
       "\n",
       "   Runtime_bins  \n",
       "0             1  \n",
       "1             1  \n",
       "2             1  \n",
       "3             0  \n",
       "4             1  "
      ]
     },
     "execution_count": 66,
     "metadata": {},
     "output_type": "execute_result"
    }
   ],
   "source": [
    "df3 = pd.read_csv(\"2013_movies.csv\")\n",
    "df3['Runtime_bins'] = (df3.Runtime > 100).astype(int)\n",
    "df3.head()"
   ]
  },
  {
   "cell_type": "markdown",
   "metadata": {},
   "source": [
    "Make a bar graph of how many of each movie there is in the data. For example, with Ratings, show how many G, PG, PG-13, R movies there are, etc. (basically a histogram of your labels)."
   ]
  },
  {
   "cell_type": "code",
   "execution_count": 67,
   "metadata": {
    "collapsed": false
   },
   "outputs": [
    {
     "data": {
      "image/png": "[encoded data removed]",
      "text/plain": [
       "<matplotlib.figure.Figure at 0x10b5b3c10>"
      ]
     },
     "metadata": {},
     "output_type": "display_data"
    },
    {
     "name": "stdout",
     "output_type": "stream",
     "text": [
      "1    69\n",
      "0    31\n",
      "dtype: int64\n"
     ]
    }
   ],
   "source": [
    "sns.countplot(df3.Runtime_bins)\n",
    "plt.show()\n",
    "print df3.Runtime_bins.value_counts()"
   ]
  },
  {
   "cell_type": "markdown",
   "metadata": {},
   "source": [
    "Predict your outcome variable (labels) using KNN and logistic regression. Calculate their accuracies."
   ]
  },
  {
   "cell_type": "code",
   "execution_count": 68,
   "metadata": {
    "collapsed": false
   },
   "outputs": [
    {
     "name": "stdout",
     "output_type": "stream",
     "text": [
      "KNN accuracy predicting if runtime will be over 100 min: 0.52\n"
     ]
    }
   ],
   "source": [
    "y3, X3 = dmatrices('Runtime_bins ~ Rating', data=df3, return_type='matrix')\n",
    "y3 = y3.ravel()\n",
    "\n",
    "x_train3, x_test3, y_train3, y_test3 = train_test_split(\n",
    "    X3, y3, test_size=0.25, random_state=7)\n",
    "\n",
    "movie_knn = KNeighborsClassifier()\n",
    "movie_knn.fit(x_train3, y_train3)\n",
    "print \"KNN accuracy predicting if runtime will be over 100 min:\", accuracy_score(y_test3, movie_knn.predict(x_test3))"
   ]
  },
  {
   "cell_type": "code",
   "execution_count": 69,
   "metadata": {
    "collapsed": false
   },
   "outputs": [
    {
     "name": "stdout",
     "output_type": "stream",
     "text": [
      "Logistic Regression accuracy predicting if runtime will be over 100 min: 0.72\n"
     ]
    }
   ],
   "source": [
    "movie_log_reg = LogisticRegression()\n",
    "movie_log_reg.fit(x_train3, y_train3)\n",
    "print \"Logistic Regression accuracy predicting if runtime will be over 100 min:\",accuracy_score(y_test3, movie_log_reg.predict(x_test3))"
   ]
  },
  {
   "cell_type": "markdown",
   "metadata": {},
   "source": [
    "Make a baseline stupid predictor that always predicts the label that is present the most in the data. Calculate its accuracy on a test set."
   ]
  },
  {
   "cell_type": "code",
   "execution_count": 70,
   "metadata": {
    "collapsed": false
   },
   "outputs": [
    {
     "name": "stdout",
     "output_type": "stream",
     "text": [
      "Baseline predictor accuracy: 0.76\n"
     ]
    }
   ],
   "source": [
    "def runtime(x):\n",
    "    return [1] * len(x)\n",
    "y_pred_runtime = runtime(x_test3)\n",
    "\n",
    "def runtime_acc():\n",
    "    return accuracy_score(y_test3, y_pred_runtime)\n",
    "print \"Baseline predictor accuracy:\", runtime_acc()"
   ]
  },
  {
   "cell_type": "markdown",
   "metadata": {},
   "source": [
    "How much better do KNN and logistic regression do versus the baseline?"
   ]
  },
  {
   "cell_type": "markdown",
   "metadata": {},
   "source": [
    ">Neither model does better than the dummy baseline predictor."
   ]
  },
  {
   "cell_type": "markdown",
   "metadata": {},
   "source": [
    "**Challenge 12**\n",
    "\n",
    "Now you are a classification master. The representative votes dataset only had 0s and 1s. Let's just swiftly tackle the breast cancer surgery data.\n",
    "\n",
    "Get it from here: [Haberman Survival Dataset](https://archive.ics.uci.edu/ml/datasets/Haberman%27s+Survival)"
   ]
  },
  {
   "cell_type": "code",
   "execution_count": 71,
   "metadata": {
    "collapsed": false
   },
   "outputs": [
    {
     "data": {
      "text/html": [
       "<div>\n",
       "<table border=\"1\" class=\"dataframe\">\n",
       "  <thead>\n",
       "    <tr style=\"text-align: right;\">\n",
       "      <th></th>\n",
       "      <th>age</th>\n",
       "      <th>year_of_op</th>\n",
       "      <th>pos_nodes</th>\n",
       "      <th>survival_status</th>\n",
       "    </tr>\n",
       "  </thead>\n",
       "  <tbody>\n",
       "    <tr>\n",
       "      <th>0</th>\n",
       "      <td>30</td>\n",
       "      <td>64</td>\n",
       "      <td>1</td>\n",
       "      <td>1</td>\n",
       "    </tr>\n",
       "    <tr>\n",
       "      <th>1</th>\n",
       "      <td>30</td>\n",
       "      <td>62</td>\n",
       "      <td>3</td>\n",
       "      <td>1</td>\n",
       "    </tr>\n",
       "    <tr>\n",
       "      <th>2</th>\n",
       "      <td>30</td>\n",
       "      <td>65</td>\n",
       "      <td>0</td>\n",
       "      <td>1</td>\n",
       "    </tr>\n",
       "    <tr>\n",
       "      <th>3</th>\n",
       "      <td>31</td>\n",
       "      <td>59</td>\n",
       "      <td>2</td>\n",
       "      <td>1</td>\n",
       "    </tr>\n",
       "    <tr>\n",
       "      <th>4</th>\n",
       "      <td>31</td>\n",
       "      <td>65</td>\n",
       "      <td>4</td>\n",
       "      <td>1</td>\n",
       "    </tr>\n",
       "  </tbody>\n",
       "</table>\n",
       "</div>"
      ],
      "text/plain": [
       "   age  year_of_op  pos_nodes  survival_status\n",
       "0   30          64          1                1\n",
       "1   30          62          3                1\n",
       "2   30          65          0                1\n",
       "3   31          59          2                1\n",
       "4   31          65          4                1"
      ]
     },
     "execution_count": 71,
     "metadata": {},
     "output_type": "execute_result"
    }
   ],
   "source": [
    "df4 = pd.read_csv(\"cancer.txt\")\n",
    "df4.head()"
   ]
  },
  {
   "cell_type": "markdown",
   "metadata": {},
   "source": [
    " * What is the average and standard deviation of the age of all of the patients?"
   ]
  },
  {
   "cell_type": "code",
   "execution_count": 72,
   "metadata": {
    "collapsed": false
   },
   "outputs": [
    {
     "name": "stdout",
     "output_type": "stream",
     "text": [
      "Average age of all patients: 52.4575163399\n",
      "Standard deviation: 10.8034523493\n"
     ]
    }
   ],
   "source": [
    "print \"Average age of all patients:\", df4.age.mean()\n",
    "print \"Standard deviation:\", df4.age.std()"
   ]
  },
  {
   "cell_type": "markdown",
   "metadata": {},
   "source": [
    " * What is the average and standard deviation of the age of those patients that survived 5 or more years after surgery?\n",
    " * What is the average and standard deviation of the age of those patients who survived fewer than 5 years after surgery?"
   ]
  },
  {
   "cell_type": "code",
   "execution_count": 73,
   "metadata": {
    "collapsed": false
   },
   "outputs": [
    {
     "name": "stdout",
     "output_type": "stream",
     "text": [
      "Mean age by survival_status\n",
      "1    52.017778\n",
      "2    53.679012\n",
      "Name: age, dtype: float64\n",
      "\n",
      "Standard deviation of age by survival_status\n",
      "1    11.012154\n",
      "2    10.167137\n",
      "Name: age, dtype: float64\n"
     ]
    }
   ],
   "source": [
    "print \"Mean age by\", df4.groupby('survival_status').age.mean()\n",
    "print \"\\nStandard deviation of age by\", df4.groupby('survival_status').age.std()"
   ]
  },
  {
   "cell_type": "markdown",
   "metadata": {},
   "source": [
    " * Plot a histogram of the ages side by side with a histogram of the number of axillary nodes."
   ]
  },
  {
   "cell_type": "code",
   "execution_count": 74,
   "metadata": {
    "collapsed": false
   },
   "outputs": [
    {
     "data": {
      "image/png": "[encoded data removed]",
      "text/plain": [
       "<matplotlib.figure.Figure at 0x10b48e8d0>"
      ]
     },
     "metadata": {},
     "output_type": "display_data"
    }
   ],
   "source": [
    "plt.figure(figsize = (15,5))\n",
    "plt.subplot(1,2,1)\n",
    "plt.hist(df4.age)\n",
    "plt.title('Age histogram')\n",
    "plt.xlabel('Age (in years)')\n",
    "plt.ylabel('Count')\n",
    "plt.subplot(1,2,2)\n",
    "plt.hist(df4.pos_nodes)\n",
    "plt.title('Positive nodes histogram')\n",
    "plt.xlabel('Number of positive nodes')\n",
    "plt.ylabel('Count')\n",
    "plt.show()"
   ]
  },
  {
   "cell_type": "markdown",
   "metadata": {},
   "source": [
    " * What is the earliest year of surgery in this dataset?"
   ]
  },
  {
   "cell_type": "code",
   "execution_count": 75,
   "metadata": {
    "collapsed": false
   },
   "outputs": [
    {
     "name": "stdout",
     "output_type": "stream",
     "text": [
      "Earliest surgery was in 1958\n"
     ]
    }
   ],
   "source": [
    "print \"Earliest surgery was in\", 1900 + min(df4.year_of_op)"
   ]
  },
  {
   "cell_type": "markdown",
   "metadata": {},
   "source": [
    " * What is the most recent year of surgery?"
   ]
  },
  {
   "cell_type": "code",
   "execution_count": 76,
   "metadata": {
    "collapsed": false
   },
   "outputs": [
    {
     "name": "stdout",
     "output_type": "stream",
     "text": [
      "Most recent surgery was in 1969\n"
     ]
    }
   ],
   "source": [
    "print \"Most recent surgery was in\", 1900 + max(df4.year_of_op)"
   ]
  },
  {
   "cell_type": "markdown",
   "metadata": {},
   "source": [
    " * Use logistic regression to predict survival after 5 years. How well does your model do?"
   ]
  },
  {
   "cell_type": "code",
   "execution_count": 81,
   "metadata": {
    "collapsed": false
   },
   "outputs": [
    {
     "name": "stdout",
     "output_type": "stream",
     "text": [
      "Logistic Regression accuracy score: 0.727272727273\n"
     ]
    }
   ],
   "source": [
    "y4 = df4.survival_status.values\n",
    "X4 = df4.copy()\n",
    "X4 = X4.drop(X4.columns[3], axis=1)\n",
    "\n",
    "x_train4, x_test4, y_train4, y_test4 = train_test_split(\n",
    "    X4, y4, test_size=0.25, random_state=7)\n",
    "\n",
    "survival = LogisticRegression()\n",
    "survival.fit(x_train4, y_train4)\n",
    "print \"Logistic Regression accuracy score:\", accuracy_score(y_test4, survival.predict(x_test4))"
   ]
  },
  {
   "cell_type": "markdown",
   "metadata": {},
   "source": [
    " * What are the coefficients of logistic regression? Which features affect the outcome how?"
   ]
  },
  {
   "cell_type": "code",
   "execution_count": 78,
   "metadata": {
    "collapsed": false
   },
   "outputs": [
    {
     "data": {
      "text/html": [
       "<div>\n",
       "<table border=\"1\" class=\"dataframe\">\n",
       "  <thead>\n",
       "    <tr style=\"text-align: right;\">\n",
       "      <th></th>\n",
       "      <th>age</th>\n",
       "      <th>year_of_op</th>\n",
       "      <th>pos_nodes</th>\n",
       "    </tr>\n",
       "  </thead>\n",
       "  <tbody>\n",
       "    <tr>\n",
       "      <th>0</th>\n",
       "      <td>0.019199</td>\n",
       "      <td>-0.037126</td>\n",
       "      <td>0.113621</td>\n",
       "    </tr>\n",
       "  </tbody>\n",
       "</table>\n",
       "</div>"
      ],
      "text/plain": [
       "        age  year_of_op  pos_nodes\n",
       "0  0.019199   -0.037126   0.113621"
      ]
     },
     "execution_count": 78,
     "metadata": {},
     "output_type": "execute_result"
    }
   ],
   "source": [
    "coefs = pd.DataFrame(survival.coef_)\n",
    "coefs.columns = X4.columns\n",
    "coefs"
   ]
  },
  {
   "cell_type": "code",
   "execution_count": 79,
   "metadata": {
    "collapsed": false
   },
   "outputs": [
    {
     "name": "stdout",
     "output_type": "stream",
     "text": [
      "Age effect: 1.01938416063\n",
      "Year of operation effect: 0.963554584847\n",
      "Number of positive nodes effect: 1.12032714681\n"
     ]
    }
   ],
   "source": [
    "print \"Age effect:\", math.exp(coefs.age.values)\n",
    "print \"Year of operation effect:\", math.exp(coefs.year_of_op.values)\n",
    "print \"Number of positive nodes effect:\", math.exp(coefs.pos_nodes.values)"
   ]
  },
  {
   "cell_type": "markdown",
   "metadata": {},
   "source": [
    ">It appears that the number of positive nodes effects the outcome the most.  An additional positive node adds 12% to the probability of death."
   ]
  },
  {
   "cell_type": "markdown",
   "metadata": {},
   "source": [
    " * Draw the learning curve for logistic regression in this case."
   ]
  },
  {
   "cell_type": "code",
   "execution_count": 80,
   "metadata": {
    "collapsed": false
   },
   "outputs": [
    {
     "data": {
      "image/png": "[encoded data removed]",
      "text/plain": [
       "<matplotlib.figure.Figure at 0x109c6af50>"
      ]
     },
     "metadata": {},
     "output_type": "display_data"
    }
   ],
   "source": [
    "train_sizes, train_score, test_score = learning_curve(LogisticRegression(), X4, y4, scoring = 'accuracy')\n",
    "train_cv_score = np.mean(train_score, axis=1)\n",
    "test_cv_score = np.mean(test_score, axis=1)\n",
    "\n",
    "fig, ax = plt.subplots()\n",
    "ax.plot(train_sizes, train_cv_score, label = \"Training score\")\n",
    "ax.plot(train_sizes,test_cv_score, label = \"Test score\")\n",
    "plt.legend(loc = 'best')\n",
    "plt.title('Logistic Regression Accuracy Scores')\n",
    "ax.set_xlabel(\"Train size\")\n",
    "ax.set_ylabel(\"Score\")\n",
    "plt.show()"
   ]
  }
 ],
 "metadata": {
  "kernelspec": {
   "display_name": "Python 2",
   "language": "python",
   "name": "python2"
  },
  "language_info": {
   "codemirror_mode": {
    "name": "ipython",
    "version": 2
   },
   "file_extension": ".py",
   "mimetype": "text/x-python",
   "name": "python",
   "nbconvert_exporter": "python",
   "pygments_lexer": "ipython2",
   "version": "2.7.10"
  }
 },
 "nbformat": 4,
 "nbformat_minor": 0
}
